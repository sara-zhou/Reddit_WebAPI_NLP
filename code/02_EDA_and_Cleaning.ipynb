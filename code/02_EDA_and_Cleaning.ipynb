{
 "cells": [
  {
   "cell_type": "code",
   "execution_count": 1,
   "id": "949418b9-203b-4551-ba46-4c5e30c7c70a",
   "metadata": {},
   "outputs": [],
   "source": [
    "#importing pandas for eda and cleaning the data\n",
    "import pandas as pd"
   ]
  },
  {
   "cell_type": "code",
   "execution_count": 2,
   "id": "c897263c-fc96-4706-8003-0c84c014e799",
   "metadata": {},
   "outputs": [],
   "source": [
    "#reading in my save data i collected from my two subreddits\n",
    "elif_posts = pd.read_csv('../data/elif_posts.csv')\n",
    "ootl_posts = pd.read_csv('../data/ootl_posts.csv')"
   ]
  },
  {
   "cell_type": "code",
   "execution_count": 3,
   "id": "cbb37499-3548-4eee-b6d4-bc1435458b5c",
   "metadata": {},
   "outputs": [
    {
     "data": {
      "text/plain": [
       "Index(['subreddit', 'title', 'selftext', 'created_utc'], dtype='object')"
      ]
     },
     "execution_count": 3,
     "metadata": {},
     "output_type": "execute_result"
    }
   ],
   "source": [
    "#checking the columns\n",
    "elif_posts.columns"
   ]
  },
  {
   "cell_type": "code",
   "execution_count": 4,
   "id": "9964a709-61f8-4a04-8d3d-76bd322c4836",
   "metadata": {},
   "outputs": [],
   "source": [
    "#dropping all empy posts\n",
    "elif_posts.dropna(inplace=True)\n",
    "ootl_posts.dropna(inplace=True)"
   ]
  },
  {
   "cell_type": "code",
   "execution_count": 5,
   "id": "f66a96fc-655e-4c34-bd66-964a9b856ed1",
   "metadata": {},
   "outputs": [
    {
     "data": {
      "text/plain": [
       "((286, 4), (213, 4))"
      ]
     },
     "execution_count": 5,
     "metadata": {},
     "output_type": "execute_result"
    }
   ],
   "source": [
    "#checking how much data i have left\n",
    "elif_posts.shape, ootl_posts.shape"
   ]
  },
  {
   "cell_type": "code",
   "execution_count": 6,
   "id": "77bf0808-cd7e-41b0-b240-68b98258b797",
   "metadata": {},
   "outputs": [],
   "source": [
    "#removing the posts that have removed by moderators or are empty from elif dataframe\n",
    "elif_posts = elif_posts.loc[elif_posts.selftext != '[removed]']\n",
    "elif_posts = elif_posts.loc[elif_posts.selftext != '[deleted]']\n",
    "elif_posts = elif_posts.loc[elif_posts.selftext != '...']"
   ]
  },
  {
   "cell_type": "code",
   "execution_count": 7,
   "id": "be93bed1-ce5b-46ab-98ec-48ec6e7893c7",
   "metadata": {},
   "outputs": [],
   "source": [
    "#removing the posts that have removed by moderators or are empty from ootl dataframe\n",
    "ootl_posts = ootl_posts.loc[ootl_posts.selftext != '[removed]']\n",
    "ootl_posts = ootl_posts.loc[ootl_posts.selftext != '[deleted]']\n",
    "ootl_posts = ootl_posts.loc[ootl_posts.selftext != '...']"
   ]
  },
  {
   "cell_type": "code",
   "execution_count": 8,
   "id": "f2fbe266-4adc-43ff-8964-1b42d4c6027c",
   "metadata": {},
   "outputs": [
    {
     "data": {
      "text/plain": [
       "hair fully dark brunette follicle 5 inch last 1 3 inch hair white grey color                                                                                                                                                                    3\n",
       "place 22f feel colder place negative temperature dry cold doe mean                                                                                                                                                                              1\n",
       "radiation treatment 15 year ago part skull wa radiation field never feel cold outside super cold canadian winter whereas non irradiated portion feel typically cold numb weather condition inability feel cold persist duration natural life    1\n",
       "always hear efficient diesel compared gas gas car usa know country diesel vehicle still closer 50 50 make diesel good gas still mostly use gas vehicle                                                                                          1\n",
       "look stats dont help smallest seal smaller smallest sea lion also biggest seal 4x big biggest sea lion                                                                                                                                          1\n",
       "Name: selftext, dtype: int64"
      ]
     },
     "execution_count": 8,
     "metadata": {},
     "output_type": "execute_result"
    }
   ],
   "source": [
    "elif_posts.selftext.value_counts().head()"
   ]
  },
  {
   "cell_type": "code",
   "execution_count": 9,
   "id": "047503af-c4a2-457b-b031-9186e6c626cf",
   "metadata": {},
   "outputs": [
    {
     "data": {
      "text/plain": [
       "((286, 4), (213, 4))"
      ]
     },
     "execution_count": 9,
     "metadata": {},
     "output_type": "execute_result"
    }
   ],
   "source": [
    "#checking what i'm left with after all that cleaning\n",
    "elif_posts.shape, ootl_posts.shape"
   ]
  },
  {
   "cell_type": "code",
   "execution_count": 10,
   "id": "6fcc5428-c0e1-48b6-af68-81e7db989714",
   "metadata": {},
   "outputs": [],
   "source": [
    "#saving my new cleaned data to my existing csv\n",
    "elif_posts.to_csv('../data/elif_posts.csv', index=False)\n",
    "ootl_posts.to_csv('../data/ootl_posts.csv', index=False)"
   ]
  }
 ],
 "metadata": {
  "kernelspec": {
   "display_name": "Python 3 (ipykernel)",
   "language": "python",
   "name": "python3"
  },
  "language_info": {
   "codemirror_mode": {
    "name": "ipython",
    "version": 3
   },
   "file_extension": ".py",
   "mimetype": "text/x-python",
   "name": "python",
   "nbconvert_exporter": "python",
   "pygments_lexer": "ipython3",
   "version": "3.9.7"
  }
 },
 "nbformat": 4,
 "nbformat_minor": 5
}
