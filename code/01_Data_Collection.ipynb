{
 "cells": [
  {
   "cell_type": "markdown",
   "id": "670640dc-39f1-47ad-bfd0-f5be5b159ef2",
   "metadata": {},
   "source": [
    "### Problem Statement: How well can we predict the source of a post between r/OutOfTheLoop and r/explainlikeimfive ?"
   ]
  },
  {
   "cell_type": "code",
   "execution_count": 1,
   "id": "37f6244b-fd4d-482c-bbf9-7903a39530db",
   "metadata": {},
   "outputs": [],
   "source": [
    "#importing in the libraries i need\n",
    "import requests\n",
    "import pandas as pd\n",
    "import time"
   ]
  },
  {
   "cell_type": "code",
   "execution_count": 2,
   "id": "16e89122-d1c9-473b-96f0-0b94e73d336a",
   "metadata": {},
   "outputs": [],
   "source": [
    "#function to get the posts from my subreddits\n",
    "def get_posts(subreddit, before):\n",
    "    df = pd.DataFrame(columns = ['subreddit', 'title', 'selftext', 'created_utc'])\n",
    "    for i in range(1000):\n",
    "        url = 'https://api.pushshift.io/reddit/search/submission/'\n",
    "\n",
    "        params = {\n",
    "            'subreddit' : subreddit,\n",
    "            'size' : 100,\n",
    "            'before' : before,\n",
    "        }\n",
    "\n",
    "        res = requests.get(url, params)\n",
    "\n",
    "        posts = res.json()['data']\n",
    "\n",
    "        df = df.append(pd.DataFrame(posts)[['subreddit', 'title', 'selftext', 'created_utc']], ignore_index=True)\n",
    "        \n",
    "        before = df['created_utc'].iloc[-1]\n",
    "        \n",
    "        time.sleep(1)\n",
    "        \n",
    "    return df"
   ]
  },
  {
   "cell_type": "code",
   "execution_count": 3,
   "id": "67eaf18b-aa78-4d73-a7bb-6aeeefba5841",
   "metadata": {
    "tags": []
   },
   "outputs": [
    {
     "data": {
      "text/html": [
       "<div>\n",
       "<style scoped>\n",
       "    .dataframe tbody tr th:only-of-type {\n",
       "        vertical-align: middle;\n",
       "    }\n",
       "\n",
       "    .dataframe tbody tr th {\n",
       "        vertical-align: top;\n",
       "    }\n",
       "\n",
       "    .dataframe thead th {\n",
       "        text-align: right;\n",
       "    }\n",
       "</style>\n",
       "<table border=\"1\" class=\"dataframe\">\n",
       "  <thead>\n",
       "    <tr style=\"text-align: right;\">\n",
       "      <th></th>\n",
       "      <th>subreddit</th>\n",
       "      <th>title</th>\n",
       "      <th>selftext</th>\n",
       "      <th>created_utc</th>\n",
       "    </tr>\n",
       "  </thead>\n",
       "  <tbody>\n",
       "    <tr>\n",
       "      <th>0</th>\n",
       "      <td>explainlikeimfive</td>\n",
       "      <td>ELI5: If two firearms fire the same ammunition...</td>\n",
       "      <td></td>\n",
       "      <td>1641354877</td>\n",
       "    </tr>\n",
       "    <tr>\n",
       "      <th>1</th>\n",
       "      <td>explainlikeimfive</td>\n",
       "      <td>ELI5: Melanie Klein good mother and bad mother</td>\n",
       "      <td>[removed]</td>\n",
       "      <td>1641354693</td>\n",
       "    </tr>\n",
       "    <tr>\n",
       "      <th>2</th>\n",
       "      <td>explainlikeimfive</td>\n",
       "      <td>ELI5: what is Square Enix doing with NFTs?</td>\n",
       "      <td>[removed]</td>\n",
       "      <td>1641354390</td>\n",
       "    </tr>\n",
       "    <tr>\n",
       "      <th>3</th>\n",
       "      <td>explainlikeimfive</td>\n",
       "      <td>ELI5: Why do cats react to catnip?</td>\n",
       "      <td></td>\n",
       "      <td>1641354037</td>\n",
       "    </tr>\n",
       "    <tr>\n",
       "      <th>4</th>\n",
       "      <td>explainlikeimfive</td>\n",
       "      <td>ELI5: What is the real meaning behind extremel...</td>\n",
       "      <td>Why do some places at 22F feel colder than som...</td>\n",
       "      <td>1641354008</td>\n",
       "    </tr>\n",
       "  </tbody>\n",
       "</table>\n",
       "</div>"
      ],
      "text/plain": [
       "           subreddit                                              title  \\\n",
       "0  explainlikeimfive  ELI5: If two firearms fire the same ammunition...   \n",
       "1  explainlikeimfive     ELI5: Melanie Klein good mother and bad mother   \n",
       "2  explainlikeimfive         ELI5: what is Square Enix doing with NFTs?   \n",
       "3  explainlikeimfive                 ELI5: Why do cats react to catnip?   \n",
       "4  explainlikeimfive  ELI5: What is the real meaning behind extremel...   \n",
       "\n",
       "                                            selftext created_utc  \n",
       "0                                                     1641354877  \n",
       "1                                          [removed]  1641354693  \n",
       "2                                          [removed]  1641354390  \n",
       "3                                                     1641354037  \n",
       "4  Why do some places at 22F feel colder than som...  1641354008  "
      ]
     },
     "execution_count": 3,
     "metadata": {},
     "output_type": "execute_result"
    }
   ],
   "source": [
    "#grabbing posts from explainliekimfive using the above function\n",
    "elif_posts = get_posts('explainlikeimfive', 1641354916)\n",
    "elif_posts.head()"
   ]
  },
  {
   "cell_type": "code",
   "execution_count": null,
   "id": "7d618083-d746-4768-8958-9da61d8db315",
   "metadata": {},
   "outputs": [],
   "source": [
    "#grabbing posts from out of the loop using the above function\n",
    "ootl_posts = get_posts('OutOfTheLoop', 1641354916)\n",
    "ootl_posts.head()"
   ]
  },
  {
   "cell_type": "code",
   "execution_count": null,
   "id": "b820a1d7-0fe5-498a-9886-c891115c8d1b",
   "metadata": {},
   "outputs": [],
   "source": [
    "#checking shape to see how many posts i grabbed\n",
    "elif_posts.shape, ootl_posts.shape"
   ]
  },
  {
   "cell_type": "code",
   "execution_count": null,
   "id": "c7cbeade-c384-4c3e-a7d8-86f50c621869",
   "metadata": {},
   "outputs": [],
   "source": [
    "#saving the data to a csv file\n",
    "elif_posts.to_csv('../data/elif_posts.csv', index=False)\n",
    "ootl_posts.to_csv('../data/ootl_posts.csv', index=False)"
   ]
  }
 ],
 "metadata": {
  "kernelspec": {
   "display_name": "Python 3 (ipykernel)",
   "language": "python",
   "name": "python3"
  },
  "language_info": {
   "codemirror_mode": {
    "name": "ipython",
    "version": 3
   },
   "file_extension": ".py",
   "mimetype": "text/x-python",
   "name": "python",
   "nbconvert_exporter": "python",
   "pygments_lexer": "ipython3",
   "version": "3.9.7"
  }
 },
 "nbformat": 4,
 "nbformat_minor": 5
}
