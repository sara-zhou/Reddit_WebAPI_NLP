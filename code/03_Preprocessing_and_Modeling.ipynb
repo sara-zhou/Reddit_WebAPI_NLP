{
 "cells": [
  {
   "cell_type": "code",
   "execution_count": 1,
   "id": "82f5f0b0-a809-4f1e-be99-09e7a20ac116",
   "metadata": {},
   "outputs": [],
   "source": [
    "#importing in all the libraries i need\n",
    "import pandas as pd\n",
    "import matplotlib.pyplot as plt\n",
    "import numpy as np\n",
    "\n",
    "from nltk.tokenize import sent_tokenize, word_tokenize, RegexpTokenizer\n",
    "from nltk.stem import WordNetLemmatizer\n",
    "from nltk.corpus import stopwords\n",
    "\n",
    "from sklearn import datasets\n",
    "from sklearn.model_selection import train_test_split, GridSearchCV\n",
    "from sklearn.pipeline import Pipeline\n",
    "from sklearn.naive_bayes import MultinomialNB, BernoulliNB\n",
    "from sklearn.linear_model import LogisticRegression\n",
    "from sklearn.metrics import confusion_matrix, plot_confusion_matrix\n",
    "from sklearn.feature_extraction.text import CountVectorizer, TfidfVectorizer\n",
    "from sklearn.ensemble import RandomForestClassifier\n",
    "from sklearn.tree import export_text, DecisionTreeClassifier\n",
    "from sklearn import tree"
   ]
  },
  {
   "cell_type": "code",
   "execution_count": 2,
   "id": "cca9b7b4-6575-4d7f-b3b2-172546b4d57f",
   "metadata": {},
   "outputs": [],
   "source": [
    "#reading in my data\n",
    "elif_posts = pd.read_csv('../data/elif_posts.csv')\n",
    "ootl_posts = pd.read_csv('../data/ootl_posts.csv')"
   ]
  },
  {
   "cell_type": "code",
   "execution_count": 3,
   "id": "30f77ebb-445b-4cc9-8a1e-a44b26faab6d",
   "metadata": {},
   "outputs": [],
   "source": [
    "#tonkenizing my data and saving it to a new column in each data frame\n",
    "tokenizer = RegexpTokenizer(r'\\w+')\n",
    "\n",
    "elif_posts['token_list'] = [tokenizer.tokenize(elif_posts.selftext[i].lower()) for i in range(len(elif_posts))]\n",
    "ootl_posts['token_list'] = [tokenizer.tokenize(ootl_posts.selftext[i].lower()) for i in range(len(ootl_posts))]"
   ]
  },
  {
   "cell_type": "code",
   "execution_count": 4,
   "id": "0acbfad2-96cc-47cc-8992-4eef4a2fbc1c",
   "metadata": {},
   "outputs": [],
   "source": [
    "#instantiating lemmatizer\n",
    "lemmatizer = WordNetLemmatizer()"
   ]
  },
  {
   "cell_type": "code",
   "execution_count": 5,
   "id": "ce41a54d-2ccc-4c8c-9631-5517b7e3296f",
   "metadata": {},
   "outputs": [],
   "source": [
    "#lemmatizing the tokenized data columns from earlier\n",
    "elif_posts['token_list'] = [[lemmatizer.lemmatize(i) for i in elif_posts.token_list[j]] for j in range(len(elif_posts))]\n",
    "ootl_posts['token_list'] = [[lemmatizer.lemmatize(i) for i in ootl_posts.token_list[j]] for j in range(len(ootl_posts))]"
   ]
  },
  {
   "cell_type": "code",
   "execution_count": 6,
   "id": "2583eb79-6981-4496-a2ff-e0fa9735d4f8",
   "metadata": {},
   "outputs": [],
   "source": [
    "#removing stop words from my tokenized data \n",
    "elif_posts['token_list'] = [[token for token in elif_posts.token_list[i] if token not in stopwords.words('english')] for i in range(len(elif_posts))]\n",
    "ootl_posts['token_list'] = [[token for token in ootl_posts.token_list[i] if token not in stopwords.words('english')] for i in range(len(ootl_posts))]"
   ]
  },
  {
   "cell_type": "code",
   "execution_count": 7,
   "id": "f9b763aa-9667-4240-bd66-7a8f0db6a20c",
   "metadata": {},
   "outputs": [],
   "source": [
    "elif_posts['token_list'] = [' '.join(i) for i in elif_posts['token_list']]\n",
    "ootl_posts['token_list'] = [' '.join(i) for i in ootl_posts['token_list']]"
   ]
  },
  {
   "cell_type": "code",
   "execution_count": 8,
   "id": "4428d1cb-0c0e-4808-868a-2a6d25250983",
   "metadata": {},
   "outputs": [
    {
     "data": {
      "text/plain": [
       "CountVectorizer()"
      ]
     },
     "execution_count": 8,
     "metadata": {},
     "output_type": "execute_result"
    }
   ],
   "source": [
    "elif_count = elif_posts['selftext']\n",
    "ootl_count = ootl_posts['selftext']\n",
    "cvec = CountVectorizer()\n",
    "cvec.fit(elif_count)\n",
    "cvec.fit(ootl_count)"
   ]
  },
  {
   "cell_type": "code",
   "execution_count": 9,
   "id": "8884f112-a7ff-4fdc-9b9f-ad4369b5a724",
   "metadata": {},
   "outputs": [],
   "source": [
    "elif_count = cvec.transform(elif_count)\n",
    "ootl_count = cvec.transform(ootl_count)"
   ]
  },
  {
   "cell_type": "code",
   "execution_count": 10,
   "id": "842ab4b9-9079-4616-adb8-1fa86e8fdbfa",
   "metadata": {},
   "outputs": [
    {
     "data": {
      "image/png": "[encoded data removed]",
      "text/plain": [
       "<Figure size 432x288 with 1 Axes>"
      ]
     },
     "metadata": {
      "needs_background": "light"
     },
     "output_type": "display_data"
    }
   ],
   "source": [
    "elif_count_df = pd.DataFrame(elif_count.todense(), columns=cvec.get_feature_names())\n",
    "elif_count_df.sum().sort_values(ascending=False).head(10).plot(kind = 'barh', title = 'r/explainlikeimfive Top Word Count');"
   ]
  },
  {
   "cell_type": "code",
   "execution_count": 11,
   "id": "dee1cf24-e60f-4854-a115-01651df2d828",
   "metadata": {},
   "outputs": [
    {
     "data": {
      "image/png": "[encoded data removed]",
      "text/plain": [
       "<Figure size 432x288 with 1 Axes>"
      ]
     },
     "metadata": {
      "needs_background": "light"
     },
     "output_type": "display_data"
    }
   ],
   "source": [
    "ootl_count_df = pd.DataFrame(ootl_count.todense(), columns=cvec.get_feature_names())\n",
    "ootl_count_df.sum().sort_values(ascending=False).head(10).plot(kind = 'barh', title = 'r/OutOfTheLoop Top Word Count');"
   ]
  },
  {
   "cell_type": "code",
   "execution_count": 12,
   "id": "167aaf69-b381-4b50-89ae-7867bae70c66",
   "metadata": {},
   "outputs": [],
   "source": [
    "#making a new data frame with both sets of posts\n",
    "both_posts = pd.concat([elif_posts, ootl_posts], ignore_index=True)"
   ]
  },
  {
   "cell_type": "code",
   "execution_count": 13,
   "id": "c2508ac2-5451-4ff6-a152-3399e9f9e487",
   "metadata": {},
   "outputs": [
    {
     "data": {
      "text/html": [
       "<div>\n",
       "<style scoped>\n",
       "    .dataframe tbody tr th:only-of-type {\n",
       "        vertical-align: middle;\n",
       "    }\n",
       "\n",
       "    .dataframe tbody tr th {\n",
       "        vertical-align: top;\n",
       "    }\n",
       "\n",
       "    .dataframe thead th {\n",
       "        text-align: right;\n",
       "    }\n",
       "</style>\n",
       "<table border=\"1\" class=\"dataframe\">\n",
       "  <thead>\n",
       "    <tr style=\"text-align: right;\">\n",
       "      <th></th>\n",
       "      <th>subreddit</th>\n",
       "      <th>title</th>\n",
       "      <th>selftext</th>\n",
       "      <th>created_utc</th>\n",
       "      <th>token_list</th>\n",
       "    </tr>\n",
       "  </thead>\n",
       "  <tbody>\n",
       "    <tr>\n",
       "      <th>0</th>\n",
       "      <td>explainlikeimfive</td>\n",
       "      <td>ELI5: What is the real meaning behind extremel...</td>\n",
       "      <td>place 22f feel colder place negative temperatu...</td>\n",
       "      <td>1641354008</td>\n",
       "      <td>place 22f feel colder place negative temperatu...</td>\n",
       "    </tr>\n",
       "    <tr>\n",
       "      <th>1</th>\n",
       "      <td>explainlikeimfive</td>\n",
       "      <td>ELI5: Why do some folks have sagged pants and ...</td>\n",
       "      <td>never understood someone ha pant sagging under...</td>\n",
       "      <td>1641353416</td>\n",
       "      <td>never understood someone ha pant sagging under...</td>\n",
       "    </tr>\n",
       "    <tr>\n",
       "      <th>2</th>\n",
       "      <td>explainlikeimfive</td>\n",
       "      <td>ELI5: If a watt is a measurement of work per s...</td>\n",
       "      <td>electricity force least think measured unit in...</td>\n",
       "      <td>1641352620</td>\n",
       "      <td>electricity force least think measured unit in...</td>\n",
       "    </tr>\n",
       "    <tr>\n",
       "      <th>3</th>\n",
       "      <td>explainlikeimfive</td>\n",
       "      <td>ELI5 Why are there no airplane routes that fly...</td>\n",
       "      <td>faster get say south america argentina lived s...</td>\n",
       "      <td>1641351940</td>\n",
       "      <td>faster get say south america argentina lived s...</td>\n",
       "    </tr>\n",
       "    <tr>\n",
       "      <th>4</th>\n",
       "      <td>explainlikeimfive</td>\n",
       "      <td>ELI5: How do timed events in online videogames...</td>\n",
       "      <td>instance playing game receives zero update pat...</td>\n",
       "      <td>1641351647</td>\n",
       "      <td>instance playing game receives zero update pat...</td>\n",
       "    </tr>\n",
       "    <tr>\n",
       "      <th>...</th>\n",
       "      <td>...</td>\n",
       "      <td>...</td>\n",
       "      <td>...</td>\n",
       "      <td>...</td>\n",
       "      <td>...</td>\n",
       "    </tr>\n",
       "    <tr>\n",
       "      <th>494</th>\n",
       "      <td>OutOfTheLoop</td>\n",
       "      <td>What's going on with Sharon's pie and the no b...</td>\n",
       "      <td>keep seeing tiktok sharon pie black burned pie...</td>\n",
       "      <td>1639885500</td>\n",
       "      <td>keep seeing tiktok sharon pie black burned pie...</td>\n",
       "    </tr>\n",
       "    <tr>\n",
       "      <th>495</th>\n",
       "      <td>OutOfTheLoop</td>\n",
       "      <td>What's the deal with r/LoveForLandlords?</td>\n",
       "      <td>http www reddit com r loveforlandlords best gu...</td>\n",
       "      <td>1639877146</td>\n",
       "      <td>http www reddit com r loveforlandlords best gu...</td>\n",
       "    </tr>\n",
       "    <tr>\n",
       "      <th>496</th>\n",
       "      <td>OutOfTheLoop</td>\n",
       "      <td>What's up with France being associated with po...</td>\n",
       "      <td>http www deccanchronicle com 150531 lifestyle ...</td>\n",
       "      <td>1639869315</td>\n",
       "      <td>http www deccanchronicle com 150531 lifestyle ...</td>\n",
       "    </tr>\n",
       "    <tr>\n",
       "      <th>497</th>\n",
       "      <td>OutOfTheLoop</td>\n",
       "      <td>What's going on with Kyrie Irving entering Cov...</td>\n",
       "      <td>noticed r nba declaring happening upvoted post...</td>\n",
       "      <td>1639866774</td>\n",
       "      <td>noticed r nba declaring happening upvoted post...</td>\n",
       "    </tr>\n",
       "    <tr>\n",
       "      <th>498</th>\n",
       "      <td>OutOfTheLoop</td>\n",
       "      <td>What's going on with \"the creature\" on r/twose...</td>\n",
       "      <td>friend keep sending meme getting milked http 6...</td>\n",
       "      <td>1639865126</td>\n",
       "      <td>friend keep sending meme getting milked http 6...</td>\n",
       "    </tr>\n",
       "  </tbody>\n",
       "</table>\n",
       "<p>499 rows × 5 columns</p>\n",
       "</div>"
      ],
      "text/plain": [
       "             subreddit                                              title  \\\n",
       "0    explainlikeimfive  ELI5: What is the real meaning behind extremel...   \n",
       "1    explainlikeimfive  ELI5: Why do some folks have sagged pants and ...   \n",
       "2    explainlikeimfive  ELI5: If a watt is a measurement of work per s...   \n",
       "3    explainlikeimfive  ELI5 Why are there no airplane routes that fly...   \n",
       "4    explainlikeimfive  ELI5: How do timed events in online videogames...   \n",
       "..                 ...                                                ...   \n",
       "494       OutOfTheLoop  What's going on with Sharon's pie and the no b...   \n",
       "495       OutOfTheLoop           What's the deal with r/LoveForLandlords?   \n",
       "496       OutOfTheLoop  What's up with France being associated with po...   \n",
       "497       OutOfTheLoop  What's going on with Kyrie Irving entering Cov...   \n",
       "498       OutOfTheLoop  What's going on with \"the creature\" on r/twose...   \n",
       "\n",
       "                                              selftext  created_utc  \\\n",
       "0    place 22f feel colder place negative temperatu...   1641354008   \n",
       "1    never understood someone ha pant sagging under...   1641353416   \n",
       "2    electricity force least think measured unit in...   1641352620   \n",
       "3    faster get say south america argentina lived s...   1641351940   \n",
       "4    instance playing game receives zero update pat...   1641351647   \n",
       "..                                                 ...          ...   \n",
       "494  keep seeing tiktok sharon pie black burned pie...   1639885500   \n",
       "495  http www reddit com r loveforlandlords best gu...   1639877146   \n",
       "496  http www deccanchronicle com 150531 lifestyle ...   1639869315   \n",
       "497  noticed r nba declaring happening upvoted post...   1639866774   \n",
       "498  friend keep sending meme getting milked http 6...   1639865126   \n",
       "\n",
       "                                            token_list  \n",
       "0    place 22f feel colder place negative temperatu...  \n",
       "1    never understood someone ha pant sagging under...  \n",
       "2    electricity force least think measured unit in...  \n",
       "3    faster get say south america argentina lived s...  \n",
       "4    instance playing game receives zero update pat...  \n",
       "..                                                 ...  \n",
       "494  keep seeing tiktok sharon pie black burned pie...  \n",
       "495  http www reddit com r loveforlandlords best gu...  \n",
       "496  http www deccanchronicle com 150531 lifestyle ...  \n",
       "497  noticed r nba declaring happening upvoted post...  \n",
       "498  friend keep sending meme getting milked http 6...  \n",
       "\n",
       "[499 rows x 5 columns]"
      ]
     },
     "execution_count": 13,
     "metadata": {},
     "output_type": "execute_result"
    }
   ],
   "source": [
    "#taking a peek to make sure nothing went wrong\n",
    "both_posts"
   ]
  },
  {
   "cell_type": "code",
   "execution_count": 14,
   "id": "e377e73a-3b24-446e-9e2b-43eede447cff",
   "metadata": {},
   "outputs": [],
   "source": [
    "#mapping the subreddits for modeling \n",
    "both_posts['subreddit'] = both_posts['subreddit'].map({'explainlikeimfive':1, 'OutOfTheLoop':0})"
   ]
  },
  {
   "cell_type": "markdown",
   "id": "5792a6b1-db4e-4687-a803-013d93fd65be",
   "metadata": {},
   "source": [
    "## Grid Search Over CountVectorizer BernoulliNB Model"
   ]
  },
  {
   "cell_type": "code",
   "execution_count": 15,
   "id": "06274ebe-c06b-4e98-9e66-e52ad0a46f9f",
   "metadata": {},
   "outputs": [],
   "source": [
    "#setting X and y variables for modeling\n",
    "X = both_posts['token_list']\n",
    "y = both_posts['subreddit']"
   ]
  },
  {
   "cell_type": "code",
   "execution_count": 16,
   "id": "e79e6d0f-1947-489d-a7a4-6a8093f5dc9e",
   "metadata": {},
   "outputs": [
    {
     "data": {
      "text/plain": [
       "1    0.573146\n",
       "0    0.426854\n",
       "Name: subreddit, dtype: float64"
      ]
     },
     "execution_count": 16,
     "metadata": {},
     "output_type": "execute_result"
    }
   ],
   "source": [
    "#checking for baseline subreddit ratios\n",
    "y.value_counts(normalize=True)"
   ]
  },
  {
   "cell_type": "code",
   "execution_count": 17,
   "id": "6fe7b712-b885-4b32-b586-03f014102d59",
   "metadata": {},
   "outputs": [],
   "source": [
    "#splitting train and test data\n",
    "X_train, X_test, y_train, y_test = train_test_split(X, y, stratify=y, random_state=42)"
   ]
  },
  {
   "cell_type": "code",
   "execution_count": 18,
   "id": "f628c5cf-cf6e-4df9-b34a-26927a48d95f",
   "metadata": {},
   "outputs": [],
   "source": [
    "#instantiating count vectorizer\n",
    "cvec = CountVectorizer()"
   ]
  },
  {
   "cell_type": "code",
   "execution_count": 19,
   "id": "65f34ad4-41d2-4b64-be37-7826a0864d26",
   "metadata": {},
   "outputs": [
    {
     "data": {
      "text/plain": [
       "CountVectorizer()"
      ]
     },
     "execution_count": 19,
     "metadata": {},
     "output_type": "execute_result"
    }
   ],
   "source": [
    "#fitting X_train\n",
    "cvec.fit(X_train)"
   ]
  },
  {
   "cell_type": "code",
   "execution_count": 20,
   "id": "fd429879-32ac-4527-ab51-50bf7e7d2d73",
   "metadata": {},
   "outputs": [],
   "source": [
    "#transforming X_train\n",
    "X_train = cvec.transform(X_train)"
   ]
  },
  {
   "cell_type": "code",
   "execution_count": 21,
   "id": "daf8d38e-ca0c-4cc2-b52b-8b96bd1b44d1",
   "metadata": {},
   "outputs": [
    {
     "data": {
      "text/plain": [
       "['cryptocurrency',\n",
       " 'cte',\n",
       " 'ctrl',\n",
       " 'cuba',\n",
       " 'cuban',\n",
       " 'cube',\n",
       " 'cult',\n",
       " 'cultural',\n",
       " 'culture',\n",
       " 'cumrun']"
      ]
     },
     "execution_count": 21,
     "metadata": {},
     "output_type": "execute_result"
    }
   ],
   "source": [
    "cvec.get_feature_names()[1000:1010]"
   ]
  },
  {
   "cell_type": "code",
   "execution_count": 22,
   "id": "6f463a65-d094-414c-be7e-a4675e29af9b",
   "metadata": {},
   "outputs": [],
   "source": [
    "X_test = cvec.transform(X_test)"
   ]
  },
  {
   "cell_type": "code",
   "execution_count": 23,
   "id": "cf00755c-0eaf-4aed-86aa-416ba0304c44",
   "metadata": {},
   "outputs": [
    {
     "data": {
      "image/png": "[encoded data removed]",
      "text/plain": [
       "<Figure size 432x288 with 1 Axes>"
      ]
     },
     "metadata": {
      "needs_background": "light"
     },
     "output_type": "display_data"
    }
   ],
   "source": [
    "X_train_df = pd.DataFrame(X_train.todense(), columns=cvec.get_feature_names())\n",
    "X_train_df.sum().sort_values(ascending=False).head(10).plot(kind = 'barh', title = 'Shared Most Common Words');"
   ]
  },
  {
   "cell_type": "code",
   "execution_count": 24,
   "id": "b4db9369-26b3-4037-afae-d40e318f5f43",
   "metadata": {},
   "outputs": [],
   "source": [
    "X_train, X_test, y_train, y_test = train_test_split(X, y, stratify=y, test_size=0.33, random_state=42)"
   ]
  },
  {
   "cell_type": "code",
   "execution_count": 25,
   "id": "cd4cf4a5-0318-4af5-b5b8-156ee0f7a16a",
   "metadata": {},
   "outputs": [],
   "source": [
    "pipe = Pipeline([\n",
    "    ('cvec', CountVectorizer()),\n",
    "    ('nb', BernoulliNB())\n",
    "])"
   ]
  },
  {
   "cell_type": "code",
   "execution_count": 26,
   "id": "8f41eb41-ff2d-4508-84d4-b43a56bfe421",
   "metadata": {},
   "outputs": [],
   "source": [
    "pipe_param = {\n",
    "    'cvec__max_features': [2_000, 3_000, 4_000, 5_000],\n",
    "    'cvec__min_df': [2, 3],\n",
    "    'cvec__max_df': [.9, .95], \n",
    "    'cvec__ngram_range': [(1, 1), (1,2)]\n",
    "}"
   ]
  },
  {
   "cell_type": "code",
   "execution_count": 27,
   "id": "1748bad3-5ef5-4cea-b907-bb461ebb37f5",
   "metadata": {},
   "outputs": [],
   "source": [
    "gs = GridSearchCV(pipe,\n",
    "                 param_grid=pipe_param,\n",
    "                 cv=5)"
   ]
  },
  {
   "cell_type": "code",
   "execution_count": 28,
   "id": "6e8d3ac1-8648-4279-8773-5f40fb17e646",
   "metadata": {},
   "outputs": [
    {
     "data": {
      "text/plain": [
       "GridSearchCV(cv=5,\n",
       "             estimator=Pipeline(steps=[('cvec', CountVectorizer()),\n",
       "                                       ('nb', BernoulliNB())]),\n",
       "             param_grid={'cvec__max_df': [0.9, 0.95],\n",
       "                         'cvec__max_features': [2000, 3000, 4000, 5000],\n",
       "                         'cvec__min_df': [2, 3],\n",
       "                         'cvec__ngram_range': [(1, 1), (1, 2)]})"
      ]
     },
     "execution_count": 28,
     "metadata": {},
     "output_type": "execute_result"
    }
   ],
   "source": [
    "gs.fit(X_train, y_train)"
   ]
  },
  {
   "cell_type": "code",
   "execution_count": 29,
   "id": "6e34bbf8-a742-47a7-a7ea-6a4124ddcd5f",
   "metadata": {},
   "outputs": [
    {
     "data": {
      "text/plain": [
       "0.9192220714608774"
      ]
     },
     "execution_count": 29,
     "metadata": {},
     "output_type": "execute_result"
    }
   ],
   "source": [
    "gs.best_score_"
   ]
  },
  {
   "cell_type": "code",
   "execution_count": 30,
   "id": "c35ef004-0257-4ead-8086-27cc9fe28783",
   "metadata": {},
   "outputs": [
    {
     "data": {
      "text/plain": [
       "(0.9550898203592815, 0.9393939393939394)"
      ]
     },
     "execution_count": 30,
     "metadata": {},
     "output_type": "execute_result"
    }
   ],
   "source": [
    "gs.score(X_train, y_train), gs.score(X_test, y_test)"
   ]
  },
  {
   "cell_type": "code",
   "execution_count": 31,
   "id": "884259ec-506c-4252-95ad-fa1ce7dc8cf6",
   "metadata": {},
   "outputs": [],
   "source": [
    "preds = gs.predict(X_test)\n",
    "\n",
    "tn, fp, fn, tp = confusion_matrix(y_test, preds).ravel()"
   ]
  },
  {
   "cell_type": "code",
   "execution_count": 32,
   "id": "46d54a66-9a0f-41d2-bec2-d1ef1911ad22",
   "metadata": {},
   "outputs": [
    {
     "data": {
      "image/png": "[encoded data removed]",
      "text/plain": [
       "<Figure size 432x288 with 2 Axes>"
      ]
     },
     "metadata": {
      "needs_background": "light"
     },
     "output_type": "display_data"
    }
   ],
   "source": [
    "plot_confusion_matrix(gs, X_test, y_test, cmap='Blues', values_format='d');"
   ]
  },
  {
   "cell_type": "code",
   "execution_count": 33,
   "id": "ebdfd066-8898-4ffd-8d35-4f988afeca29",
   "metadata": {},
   "outputs": [
    {
     "name": "stdout",
     "output_type": "stream",
     "text": [
      "Specificity: 0.8714285714285714\n"
     ]
    }
   ],
   "source": [
    "spec = tn / (tn + fp)\n",
    "\n",
    "print('Specificity:', spec)"
   ]
  },
  {
   "cell_type": "markdown",
   "id": "dc4e5cfd-36c7-4af8-9946-0ee1bc21cfcd",
   "metadata": {},
   "source": [
    "## Grid Search Over TF-IDF Vectorizer and Multinomial Naive Bayes"
   ]
  },
  {
   "cell_type": "code",
   "execution_count": 34,
   "id": "5c9e4463-d433-40df-837c-a75b4dab88f2",
   "metadata": {},
   "outputs": [],
   "source": [
    "tvec = TfidfVectorizer()"
   ]
  },
  {
   "cell_type": "code",
   "execution_count": 35,
   "id": "73ee6ea0-8b93-46ba-8136-55564a1e6f41",
   "metadata": {},
   "outputs": [
    {
     "data": {
      "image/png": "[encoded data removed]",
      "text/plain": [
       "<Figure size 432x288 with 1 Axes>"
      ]
     },
     "metadata": {
      "needs_background": "light"
     },
     "output_type": "display_data"
    }
   ],
   "source": [
    "X_train_df = pd.DataFrame(tvec.fit_transform(X_train).todense(), \n",
    "                          columns=tvec.get_feature_names())\n",
    "\n",
    "X_train_df.sum().sort_values(ascending=False).head(10).plot(kind='barh', title='Most Common Words in Both Subreddits');"
   ]
  },
  {
   "cell_type": "code",
   "execution_count": 36,
   "id": "6229e42b-d55b-4f88-a54f-44320191eb0a",
   "metadata": {},
   "outputs": [],
   "source": [
    "pipe_tvec = Pipeline([\n",
    "    ('tvec', TfidfVectorizer()),\n",
    "    ('nb', MultinomialNB())\n",
    "])"
   ]
  },
  {
   "cell_type": "code",
   "execution_count": 37,
   "id": "717b59ad-6434-49e4-940e-d3ae39f29928",
   "metadata": {},
   "outputs": [],
   "source": [
    "pipe_tvec_params = {\n",
    "    'tvec__max_features': [2_000, 3_000, 4_000, 5_000],\n",
    "    'tvec__stop_words': [None, 'english'],\n",
    "    'tvec__ngram_range': [(1,1), (1,2)]\n",
    "}"
   ]
  },
  {
   "cell_type": "code",
   "execution_count": 38,
   "id": "5495221c-b46b-46cf-9898-bfea09571d38",
   "metadata": {},
   "outputs": [],
   "source": [
    "gs_tvec = GridSearchCV(pipe_tvec, # what object are we optimizing?\n",
    "                        param_grid = pipe_tvec_params, # what parameters values are we searching?\n",
    "                        cv=5) # 5-fold cross-validation."
   ]
  },
  {
   "cell_type": "code",
   "execution_count": 39,
   "id": "b1bd05cf-a6e0-4ea5-bfb5-db6a047d7003",
   "metadata": {},
   "outputs": [
    {
     "data": {
      "text/plain": [
       "GridSearchCV(cv=5,\n",
       "             estimator=Pipeline(steps=[('tvec', TfidfVectorizer()),\n",
       "                                       ('nb', MultinomialNB())]),\n",
       "             param_grid={'tvec__max_features': [2000, 3000, 4000, 5000],\n",
       "                         'tvec__ngram_range': [(1, 1), (1, 2)],\n",
       "                         'tvec__stop_words': [None, 'english']})"
      ]
     },
     "execution_count": 39,
     "metadata": {},
     "output_type": "execute_result"
    }
   ],
   "source": [
    "gs_tvec.fit(X_train, y_train)"
   ]
  },
  {
   "cell_type": "code",
   "execution_count": 40,
   "id": "d1557675-af66-48b1-be2c-b030ed360d9f",
   "metadata": {},
   "outputs": [
    {
     "data": {
      "text/plain": [
       "(0.9880239520958084, 0.9515151515151515)"
      ]
     },
     "execution_count": 40,
     "metadata": {},
     "output_type": "execute_result"
    }
   ],
   "source": [
    "gs_tvec.score(X_train, y_train), gs_tvec.score(X_test, y_test)"
   ]
  },
  {
   "cell_type": "code",
   "execution_count": 41,
   "id": "2a15657f-7c40-4a0b-8563-b902c43a308d",
   "metadata": {},
   "outputs": [
    {
     "name": "stdout",
     "output_type": "stream",
     "text": [
      "Specificity: 0.9857142857142858\n"
     ]
    }
   ],
   "source": [
    "# Get predictions\n",
    "preds_tvec = gs_tvec.predict(X_test)\n",
    "\n",
    "# Save confusion matrix values\n",
    "tn, fp, fn, tp = confusion_matrix(y_test, preds_tvec).ravel()\n",
    "\n",
    "# Calculate the specificity\n",
    "\n",
    "spec = tn / (tn + fp)\n",
    "\n",
    "print('Specificity:', spec)"
   ]
  },
  {
   "cell_type": "code",
   "execution_count": 42,
   "id": "bbe17570-c54b-4dc7-bc98-61318fb5ca69",
   "metadata": {},
   "outputs": [
    {
     "data": {
      "image/png": "[encoded data removed]",
      "text/plain": [
       "<Figure size 432x288 with 2 Axes>"
      ]
     },
     "metadata": {
      "needs_background": "light"
     },
     "output_type": "display_data"
    }
   ],
   "source": [
    "# visualize this\n",
    "\n",
    "plot_confusion_matrix(gs_tvec, X_test, y_test, cmap='Blues', values_format='d');"
   ]
  },
  {
   "cell_type": "code",
   "execution_count": 43,
   "id": "b71511ad-65a1-4569-bff9-1019db33f502",
   "metadata": {},
   "outputs": [
    {
     "name": "stdout",
     "output_type": "stream",
     "text": [
      "<class 'scipy.sparse.csr.csr_matrix'>\n",
      "  (0, 1260)\t1\n",
      "  (0, 2534)\t1\n",
      "  (0, 1677)\t1\n",
      "  (0, 2714)\t1\n",
      "  (0, 796)\t1\n",
      "  (0, 3380)\t1\n",
      "  (0, 805)\t1\n",
      "  (0, 2847)\t1\n",
      "  (0, 206)\t1\n",
      "  (0, 2950)\t1\n",
      "  (0, 1252)\t1\n",
      "  (0, 352)\t1\n",
      "  (0, 1907)\t1\n",
      "  (0, 1600)\t1\n",
      "  (0, 2511)\t1\n",
      "  (0, 601)\t1\n"
     ]
    }
   ],
   "source": [
    "#storing data efficiently\n",
    "X_train, X_test, y_train, y_test = train_test_split(X, y, test_size=0.33, stratify=y, random_state=42)\n",
    "\n",
    "cvec = CountVectorizer()\n",
    "\n",
    "X_train = cvec.fit_transform(X_train)\n",
    "\n",
    "print(type(X_train))\n",
    "print(X_train[0])"
   ]
  },
  {
   "cell_type": "markdown",
   "id": "d3fb911e-bcc9-4a83-8d0a-bd324397220f",
   "metadata": {},
   "source": [
    "## Random Forest"
   ]
  },
  {
   "cell_type": "code",
   "execution_count": 44,
   "id": "97af6dc1-857a-4d32-a7e7-09e1a8e967dc",
   "metadata": {},
   "outputs": [],
   "source": [
    "X = both_posts['selftext']\n",
    "y = both_posts['subreddit']"
   ]
  },
  {
   "cell_type": "code",
   "execution_count": 45,
   "id": "1d93731e-77d8-45f6-a55f-7b10164b9a0f",
   "metadata": {},
   "outputs": [
    {
     "data": {
      "text/plain": [
       "TfidfVectorizer()"
      ]
     },
     "execution_count": 45,
     "metadata": {},
     "output_type": "execute_result"
    }
   ],
   "source": [
    "tvec = TfidfVectorizer()\n",
    "tvec.fit(X)"
   ]
  },
  {
   "cell_type": "code",
   "execution_count": 46,
   "id": "1f470cb0-8a7b-4fb6-b892-d72a68b2da68",
   "metadata": {},
   "outputs": [],
   "source": [
    "X_train, X_test, y_train, y_test = train_test_split(X, y, stratify=y, random_state=42)\n",
    "X_train_transformed = tvec.transform(X_train)\n",
    "X_test_transformed = tvec.transform(X_test)"
   ]
  },
  {
   "cell_type": "code",
   "execution_count": 47,
   "id": "33bd3f7e-e2bf-4b42-8404-059345db4fef",
   "metadata": {},
   "outputs": [],
   "source": [
    "rf = RandomForestClassifier()"
   ]
  },
  {
   "cell_type": "code",
   "execution_count": 48,
   "id": "69e5db76-8b9d-4ded-8eec-d94f3506602b",
   "metadata": {},
   "outputs": [
    {
     "data": {
      "text/plain": [
       "RandomForestClassifier()"
      ]
     },
     "execution_count": 48,
     "metadata": {},
     "output_type": "execute_result"
    }
   ],
   "source": [
    "rf.fit(X_train_transformed, y_train)"
   ]
  },
  {
   "cell_type": "code",
   "execution_count": 49,
   "id": "6c7d6120-63f7-4564-80d7-b51c783797c8",
   "metadata": {},
   "outputs": [
    {
     "data": {
      "text/plain": [
       "(1.0, 0.968)"
      ]
     },
     "execution_count": 49,
     "metadata": {},
     "output_type": "execute_result"
    }
   ],
   "source": [
    "rf.score(X_train_transformed, y_train), rf.score(X_test_transformed, y_test)"
   ]
  },
  {
   "cell_type": "code",
   "execution_count": 50,
   "id": "4cf2033a-19a5-4bb7-8536-1f8d1ea71a7e",
   "metadata": {},
   "outputs": [
    {
     "name": "stdout",
     "output_type": "stream",
     "text": [
      "Fitting 5 folds for each of 18 candidates, totalling 90 fits\n"
     ]
    },
    {
     "data": {
      "text/plain": [
       "GridSearchCV(cv=5, estimator=RandomForestClassifier(), n_jobs=-1,\n",
       "             param_grid={'max_depth': [None, 1, 2, 3, 4, 5],\n",
       "                         'n_estimators': [100, 150, 200]},\n",
       "             verbose=1)"
      ]
     },
     "execution_count": 50,
     "metadata": {},
     "output_type": "execute_result"
    }
   ],
   "source": [
    "rf_params = {\n",
    "    'n_estimators' : [100, 150, 200],\n",
    "    'max_depth' : [None, 1 , 2, 3, 4, 5]\n",
    "}\n",
    "\n",
    "gs = GridSearchCV(rf, param_grid=rf_params, cv=5, n_jobs=-1, verbose=1)\n",
    "gs.fit(X_train_transformed, y_train)"
   ]
  },
  {
   "cell_type": "code",
   "execution_count": 51,
   "id": "65105324-5f8f-4780-a99f-44d5766efa4b",
   "metadata": {},
   "outputs": [
    {
     "data": {
      "text/plain": [
       "(1.0, 0.968)"
      ]
     },
     "execution_count": 51,
     "metadata": {},
     "output_type": "execute_result"
    }
   ],
   "source": [
    "gs.score(X_train_transformed, y_train), gs.score(X_test_transformed, y_test)"
   ]
  }
 ],
 "metadata": {
  "kernelspec": {
   "display_name": "Python 3 (ipykernel)",
   "language": "python",
   "name": "python3"
  },
  "language_info": {
   "codemirror_mode": {
    "name": "ipython",
    "version": 3
   },
   "file_extension": ".py",
   "mimetype": "text/x-python",
   "name": "python",
   "nbconvert_exporter": "python",
   "pygments_lexer": "ipython3",
   "version": "3.9.7"
  }
 },
 "nbformat": 4,
 "nbformat_minor": 5
}
