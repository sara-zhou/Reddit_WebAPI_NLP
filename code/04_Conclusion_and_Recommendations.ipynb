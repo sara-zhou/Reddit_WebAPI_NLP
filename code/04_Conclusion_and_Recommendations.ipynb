{
 "cells": [
  {
   "cell_type": "markdown",
   "id": "1709fa8a-c80c-49a1-ba6f-981a799f0cf4",
   "metadata": {},
   "source": [
    "### Conclusions"
   ]
  },
  {
   "cell_type": "markdown",
   "id": "020fc5d2-3463-48bc-b00e-87f538f51d69",
   "metadata": {},
   "source": []
  },
  {
   "cell_type": "markdown",
   "id": "3d3dafe9-bb24-4903-a93b-eb8e095dee8d",
   "metadata": {},
   "source": [
    "### Recommendations"
   ]
  },
  {
   "cell_type": "code",
   "execution_count": null,
   "id": "0965ee92-c62e-46af-b526-a09835c0b406",
   "metadata": {},
   "outputs": [],
   "source": []
  }
 ],
 "metadata": {
  "kernelspec": {
   "display_name": "Python 3 (ipykernel)",
   "language": "python",
   "name": "python3"
  },
  "language_info": {
   "codemirror_mode": {
    "name": "ipython",
    "version": 3
   },
   "file_extension": ".py",
   "mimetype": "text/x-python",
   "name": "python",
   "nbconvert_exporter": "python",
   "pygments_lexer": "ipython3",
   "version": "3.9.7"
  }
 },
 "nbformat": 4,
 "nbformat_minor": 5
}
